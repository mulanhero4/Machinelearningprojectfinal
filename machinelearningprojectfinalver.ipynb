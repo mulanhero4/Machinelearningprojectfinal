{
 "cells": [
  {
   "cell_type": "code",
   "execution_count": 1,
   "id": "2437551c",
   "metadata": {
    "execution": {
     "iopub.execute_input": "2024-06-07T21:23:56.145424Z",
     "iopub.status.busy": "2024-06-07T21:23:56.145034Z",
     "iopub.status.idle": "2024-06-07T21:23:58.311866Z",
     "shell.execute_reply": "2024-06-07T21:23:58.310557Z"
    },
    "papermill": {
     "duration": 2.176441,
     "end_time": "2024-06-07T21:23:58.314724",
     "exception": false,
     "start_time": "2024-06-07T21:23:56.138283",
     "status": "completed"
    },
    "tags": []
   },
   "outputs": [],
   "source": [
    "import pandas as pd\n",
    "from sklearn.model_selection import train_test_split, GridSearchCV,RandomizedSearchCV\n",
    "from sklearn.svm import SVC\n",
    "from sklearn.pipeline import Pipeline\n",
    "from sklearn.compose import ColumnTransformer\n",
    "from sklearn.impute import SimpleImputer\n",
    "from sklearn.preprocessing import StandardScaler, OneHotEncoder\n",
    "from sklearn.decomposition import PCA\n",
    "from sklearn.metrics import accuracy_score\n",
    "import joblib"
   ]
  },
  {
   "cell_type": "code",
   "execution_count": 2,
   "id": "7797630a",
   "metadata": {
    "execution": {
     "iopub.execute_input": "2024-06-07T21:23:58.326080Z",
     "iopub.status.busy": "2024-06-07T21:23:58.325598Z",
     "iopub.status.idle": "2024-06-07T21:23:58.684130Z",
     "shell.execute_reply": "2024-06-07T21:23:58.682991Z"
    },
    "papermill": {
     "duration": 0.367072,
     "end_time": "2024-06-07T21:23:58.686803",
     "exception": false,
     "start_time": "2024-06-07T21:23:58.319731",
     "status": "completed"
    },
    "tags": []
   },
   "outputs": [
    {
     "name": "stdout",
     "output_type": "stream",
     "text": [
      "       ID Customer_ID     Month             Name   Age          SSN  \\\n",
      "0  0x1608   CUS_0xd40      July    Aaron Maashoh  23.0  821-00-0265   \n",
      "1  0x160f  CUS_0x21b1  February  Rick Rothackerj  28.0  004-07-5839   \n",
      "2  0x1612  CUS_0x21b1       May  Rick Rothackerj  28.0  004-07-5839   \n",
      "3  0x1613  CUS_0x21b1      June  Rick Rothackerj  28.0  004-07-5839   \n",
      "4  0x1615  CUS_0x21b1    August  Rick Rothackerj  28.0  004-07-5839   \n",
      "\n",
      "  Occupation  Annual_Income  Monthly_Inhand_Salary  Num_Bank_Accounts  ...  \\\n",
      "0  Scientist       19114.12            1824.843333                3.0  ...   \n",
      "1    Teacher       34847.84            3037.986667                2.0  ...   \n",
      "2    Teacher       34847.84            3037.986667                2.0  ...   \n",
      "3    Teacher       34847.84            3037.986667                2.0  ...   \n",
      "4    Teacher       34847.84            3037.986667                2.0  ...   \n",
      "\n",
      "   Credit_Score  Count_Auto Loan  Count_Credit-Builder Loan  \\\n",
      "0          Good              1.0                        1.0   \n",
      "1          Good              0.0                        1.0   \n",
      "2          Good              0.0                        1.0   \n",
      "3          Good              0.0                        1.0   \n",
      "4          Good              0.0                        1.0   \n",
      "\n",
      "   Count_Personal Loan  Count_Home Equity Loan  Count_Not Specified  \\\n",
      "0                  1.0                     1.0                  0.0   \n",
      "1                  0.0                     0.0                  0.0   \n",
      "2                  0.0                     0.0                  0.0   \n",
      "3                  0.0                     0.0                  0.0   \n",
      "4                  0.0                     0.0                  0.0   \n",
      "\n",
      "  Count_Mortgage Loan  Count_Student Loan  Count_Debt Consolidation Loan  \\\n",
      "0                   0                   0                              0   \n",
      "1                   0                   0                              0   \n",
      "2                   0                   0                              0   \n",
      "3                   0                   0                              0   \n",
      "4                   0                   0                              0   \n",
      "\n",
      "   Count_Payday Loan  \n",
      "0                  0  \n",
      "1                  0  \n",
      "2                  0  \n",
      "3                  0  \n",
      "4                  0  \n",
      "\n",
      "[5 rows x 35 columns]\n"
     ]
    }
   ],
   "source": [
    "# Load the dataset\n",
    "file_path = '/kaggle/input/machinelearningdataexam/credit_scores.csv'\n",
    "df = pd.read_csv(file_path)\n",
    "\n",
    "# Display the first few rows\n",
    "print(df.head())"
   ]
  },
  {
   "cell_type": "code",
   "execution_count": 3,
   "id": "42abbd63",
   "metadata": {
    "execution": {
     "iopub.execute_input": "2024-06-07T21:23:58.698901Z",
     "iopub.status.busy": "2024-06-07T21:23:58.697880Z",
     "iopub.status.idle": "2024-06-07T21:23:58.708791Z",
     "shell.execute_reply": "2024-06-07T21:23:58.707963Z"
    },
    "papermill": {
     "duration": 0.019349,
     "end_time": "2024-06-07T21:23:58.711115",
     "exception": false,
     "start_time": "2024-06-07T21:23:58.691766",
     "status": "completed"
    },
    "tags": []
   },
   "outputs": [],
   "source": [
    "# Drop specified columns\n",
    "df.drop(columns=[\"Name\", \"SSN\", \"ID\", \"Customer_ID\"], inplace=True)\n"
   ]
  },
  {
   "cell_type": "code",
   "execution_count": 4,
   "id": "a11845dd",
   "metadata": {
    "execution": {
     "iopub.execute_input": "2024-06-07T21:23:58.722331Z",
     "iopub.status.busy": "2024-06-07T21:23:58.721972Z",
     "iopub.status.idle": "2024-06-07T21:23:59.138071Z",
     "shell.execute_reply": "2024-06-07T21:23:59.136490Z"
    },
    "papermill": {
     "duration": 0.423902,
     "end_time": "2024-06-07T21:23:59.139879",
     "exception": true,
     "start_time": "2024-06-07T21:23:58.715977",
     "status": "failed"
    },
    "tags": []
   },
   "outputs": [
    {
     "ename": "NameError",
     "evalue": "name 'X' is not defined",
     "output_type": "error",
     "traceback": [
      "\u001b[0;31m---------------------------------------------------------------------------\u001b[0m",
      "\u001b[0;31mNameError\u001b[0m                                 Traceback (most recent call last)",
      "Cell \u001b[0;32mIn[4], line 2\u001b[0m\n\u001b[1;32m      1\u001b[0m \u001b[38;5;66;03m# Use a subset of the data for initial parameter tuning\u001b[39;00m\n\u001b[0;32m----> 2\u001b[0m X_sample, _, y_sample, _ \u001b[38;5;241m=\u001b[39m train_test_split(\u001b[43mX\u001b[49m, y, test_size\u001b[38;5;241m=\u001b[39m\u001b[38;5;241m0.8\u001b[39m, random_state\u001b[38;5;241m=\u001b[39m\u001b[38;5;241m42\u001b[39m)\n",
      "\u001b[0;31mNameError\u001b[0m: name 'X' is not defined"
     ]
    }
   ],
   "source": [
    "# Use a subset of the data for initial parameter tuning\n",
    "X_sample, _, y_sample, _ = train_test_split(X, y, test_size=0.8, random_state=42)"
   ]
  },
  {
   "cell_type": "code",
   "execution_count": null,
   "id": "d69e7895",
   "metadata": {
    "execution": {
     "iopub.execute_input": "2024-06-07T20:42:31.035748Z",
     "iopub.status.busy": "2024-06-07T20:42:31.035312Z",
     "iopub.status.idle": "2024-06-07T20:42:31.045067Z",
     "shell.execute_reply": "2024-06-07T20:42:31.043961Z",
     "shell.execute_reply.started": "2024-06-07T20:42:31.035714Z"
    },
    "papermill": {
     "duration": null,
     "end_time": null,
     "exception": null,
     "start_time": null,
     "status": "pending"
    },
    "tags": []
   },
   "outputs": [],
   "source": [
    "# Define target variable\n",
    "target = 'Credit_Score'\n",
    "X = df.drop(columns=[target])\n",
    "y = df[target]"
   ]
  },
  {
   "cell_type": "code",
   "execution_count": null,
   "id": "2aa2ec4d",
   "metadata": {
    "execution": {
     "iopub.execute_input": "2024-06-07T20:42:33.577733Z",
     "iopub.status.busy": "2024-06-07T20:42:33.576619Z",
     "iopub.status.idle": "2024-06-07T20:42:33.599187Z",
     "shell.execute_reply": "2024-06-07T20:42:33.598078Z",
     "shell.execute_reply.started": "2024-06-07T20:42:33.577695Z"
    },
    "papermill": {
     "duration": null,
     "end_time": null,
     "exception": null,
     "start_time": null,
     "status": "pending"
    },
    "tags": []
   },
   "outputs": [],
   "source": [
    "# Split the data into training and testing sets\n",
    "X_train, X_test, y_train, y_test = train_test_split(X, y, test_size=0.2, random_state=42)"
   ]
  },
  {
   "cell_type": "code",
   "execution_count": null,
   "id": "4aefdd53",
   "metadata": {
    "execution": {
     "iopub.execute_input": "2024-06-07T20:42:37.437059Z",
     "iopub.status.busy": "2024-06-07T20:42:37.436664Z",
     "iopub.status.idle": "2024-06-07T20:42:37.444892Z",
     "shell.execute_reply": "2024-06-07T20:42:37.443638Z",
     "shell.execute_reply.started": "2024-06-07T20:42:37.437028Z"
    },
    "papermill": {
     "duration": null,
     "end_time": null,
     "exception": null,
     "start_time": null,
     "status": "pending"
    },
    "tags": []
   },
   "outputs": [],
   "source": [
    "# Preprocessing for numerical data\n",
    "numerical_features = X.select_dtypes(include=['int64', 'float64']).columns\n",
    "numerical_transformer = Pipeline(steps=[\n",
    "    ('imputer', SimpleImputer(strategy='median')),\n",
    "    ('scaler', StandardScaler()),\n",
    "    ('pca', PCA(n_components=10))  # Adding PCA to reduce dimensionality\n",
    "])"
   ]
  },
  {
   "cell_type": "code",
   "execution_count": null,
   "id": "2583d989",
   "metadata": {
    "execution": {
     "iopub.execute_input": "2024-06-07T20:42:39.818631Z",
     "iopub.status.busy": "2024-06-07T20:42:39.818239Z",
     "iopub.status.idle": "2024-06-07T20:42:39.827594Z",
     "shell.execute_reply": "2024-06-07T20:42:39.826123Z",
     "shell.execute_reply.started": "2024-06-07T20:42:39.818598Z"
    },
    "papermill": {
     "duration": null,
     "end_time": null,
     "exception": null,
     "start_time": null,
     "status": "pending"
    },
    "tags": []
   },
   "outputs": [],
   "source": [
    "# Preprocessing for categorical data\n",
    "categorical_features = X.select_dtypes(include=['object']).columns\n",
    "categorical_transformer = Pipeline(steps=[\n",
    "    ('imputer', SimpleImputer(strategy='most_frequent')),\n",
    "    ('onehot', OneHotEncoder(handle_unknown='ignore'))\n",
    "])\n"
   ]
  },
  {
   "cell_type": "code",
   "execution_count": null,
   "id": "53e61945",
   "metadata": {
    "execution": {
     "iopub.execute_input": "2024-06-07T20:42:42.327099Z",
     "iopub.status.busy": "2024-06-07T20:42:42.326692Z",
     "iopub.status.idle": "2024-06-07T20:42:42.333087Z",
     "shell.execute_reply": "2024-06-07T20:42:42.331426Z",
     "shell.execute_reply.started": "2024-06-07T20:42:42.327069Z"
    },
    "papermill": {
     "duration": null,
     "end_time": null,
     "exception": null,
     "start_time": null,
     "status": "pending"
    },
    "tags": []
   },
   "outputs": [],
   "source": [
    "# Bundle preprocessing for numerical and categorical data\n",
    "preprocessor = ColumnTransformer(\n",
    "    transformers=[\n",
    "        ('num', numerical_transformer, numerical_features),\n",
    "        ('cat', categorical_transformer, categorical_features)\n",
    "    ])"
   ]
  },
  {
   "cell_type": "code",
   "execution_count": null,
   "id": "b7b9d3cb",
   "metadata": {
    "execution": {
     "iopub.execute_input": "2024-06-07T20:42:45.980038Z",
     "iopub.status.busy": "2024-06-07T20:42:45.978752Z",
     "iopub.status.idle": "2024-06-07T20:42:45.986587Z",
     "shell.execute_reply": "2024-06-07T20:42:45.984577Z",
     "shell.execute_reply.started": "2024-06-07T20:42:45.979982Z"
    },
    "papermill": {
     "duration": null,
     "end_time": null,
     "exception": null,
     "start_time": null,
     "status": "pending"
    },
    "tags": []
   },
   "outputs": [],
   "source": [
    "# Define the model\n",
    "model = Pipeline(steps=[\n",
    "    ('preprocessor', preprocessor),\n",
    "    ('classifier', SVC())\n",
    "])\n"
   ]
  },
  {
   "cell_type": "code",
   "execution_count": null,
   "id": "8ad82972",
   "metadata": {
    "execution": {
     "iopub.execute_input": "2024-06-07T20:42:48.780627Z",
     "iopub.status.busy": "2024-06-07T20:42:48.780185Z",
     "iopub.status.idle": "2024-06-07T20:42:48.786291Z",
     "shell.execute_reply": "2024-06-07T20:42:48.784989Z",
     "shell.execute_reply.started": "2024-06-07T20:42:48.780594Z"
    },
    "papermill": {
     "duration": null,
     "end_time": null,
     "exception": null,
     "start_time": null,
     "status": "pending"
    },
    "tags": []
   },
   "outputs": [],
   "source": [
    "# Define a smaller parameter grid for RandomizedSearchCV\n",
    "param_dist = {\n",
    "    'classifier__C': [0.1, 1, 10],\n",
    "    'classifier__gamma': [0.1, 0.01, 0.001],\n",
    "    'classifier__kernel': ['rbf', 'linear']\n",
    "}"
   ]
  },
  {
   "cell_type": "code",
   "execution_count": null,
   "id": "d96461c6",
   "metadata": {
    "execution": {
     "iopub.execute_input": "2024-06-07T20:43:01.492066Z",
     "iopub.status.busy": "2024-06-07T20:43:01.491690Z",
     "iopub.status.idle": "2024-06-07T20:44:03.530022Z",
     "shell.execute_reply": "2024-06-07T20:44:03.528837Z",
     "shell.execute_reply.started": "2024-06-07T20:43:01.492038Z"
    },
    "papermill": {
     "duration": null,
     "end_time": null,
     "exception": null,
     "start_time": null,
     "status": "pending"
    },
    "tags": []
   },
   "outputs": [],
   "source": [
    "# Perform randomized search with cross-validation using parallel processing\n",
    "random_search = RandomizedSearchCV(model, param_distributions=param_dist, n_iter=20, cv=3, scoring='accuracy', n_jobs=-1, random_state=42)\n",
    "random_search.fit(X_sample, y_sample)\n"
   ]
  },
  {
   "cell_type": "code",
   "execution_count": null,
   "id": "375238e7",
   "metadata": {
    "execution": {
     "iopub.execute_input": "2024-06-07T20:44:55.844295Z",
     "iopub.status.busy": "2024-06-07T20:44:55.843145Z",
     "iopub.status.idle": "2024-06-07T20:44:55.850509Z",
     "shell.execute_reply": "2024-06-07T20:44:55.849330Z",
     "shell.execute_reply.started": "2024-06-07T20:44:55.844254Z"
    },
    "papermill": {
     "duration": null,
     "end_time": null,
     "exception": null,
     "start_time": null,
     "status": "pending"
    },
    "tags": []
   },
   "outputs": [],
   "source": [
    "# Best parameters and best score\n",
    "best_params = random_search.best_params_\n",
    "best_score = random_search.best_score_\n",
    "\n",
    "print(\"Best parameters found: \", best_params)\n",
    "print(\"Best cross-validation accuracy: {:.2f}\".format(best_score))\n"
   ]
  },
  {
   "cell_type": "code",
   "execution_count": null,
   "id": "f46c31b2",
   "metadata": {
    "execution": {
     "iopub.execute_input": "2024-06-07T20:45:10.751206Z",
     "iopub.status.busy": "2024-06-07T20:45:10.750801Z",
     "iopub.status.idle": "2024-06-07T20:45:10.775879Z",
     "shell.execute_reply": "2024-06-07T20:45:10.774639Z",
     "shell.execute_reply.started": "2024-06-07T20:45:10.751177Z"
    },
    "papermill": {
     "duration": null,
     "end_time": null,
     "exception": null,
     "start_time": null,
     "status": "pending"
    },
    "tags": []
   },
   "outputs": [],
   "source": [
    "# Now split the data into training and test sets for the final model\n",
    "X_train, X_test, y_train, y_test = train_test_split(X, y, test_size=0.2, random_state=42)\n"
   ]
  },
  {
   "cell_type": "code",
   "execution_count": null,
   "id": "a4e5912b",
   "metadata": {
    "execution": {
     "iopub.execute_input": "2024-06-07T20:45:22.163892Z",
     "iopub.status.busy": "2024-06-07T20:45:22.163443Z",
     "iopub.status.idle": "2024-06-07T20:46:49.914432Z",
     "shell.execute_reply": "2024-06-07T20:46:49.913320Z",
     "shell.execute_reply.started": "2024-06-07T20:45:22.163861Z"
    },
    "papermill": {
     "duration": null,
     "end_time": null,
     "exception": null,
     "start_time": null,
     "status": "pending"
    },
    "tags": []
   },
   "outputs": [],
   "source": [
    "# Train the model on the full dataset with the best parameters found\n",
    "model.set_params(**random_search.best_params_)\n",
    "model.fit(X_train, y_train)"
   ]
  },
  {
   "cell_type": "code",
   "execution_count": null,
   "id": "a9d8bbee",
   "metadata": {
    "execution": {
     "iopub.execute_input": "2024-06-07T20:47:55.504469Z",
     "iopub.status.busy": "2024-06-07T20:47:55.503150Z",
     "iopub.status.idle": "2024-06-07T20:48:07.880968Z",
     "shell.execute_reply": "2024-06-07T20:48:07.879020Z",
     "shell.execute_reply.started": "2024-06-07T20:47:55.504419Z"
    },
    "papermill": {
     "duration": null,
     "end_time": null,
     "exception": null,
     "start_time": null,
     "status": "pending"
    },
    "tags": []
   },
   "outputs": [],
   "source": [
    "# Make predictions on the test set\n",
    "y_pred = model.predict(X_test)\n"
   ]
  },
  {
   "cell_type": "code",
   "execution_count": null,
   "id": "c29b8fcc",
   "metadata": {
    "execution": {
     "iopub.execute_input": "2024-06-07T20:48:43.479450Z",
     "iopub.status.busy": "2024-06-07T20:48:43.479014Z",
     "iopub.status.idle": "2024-06-07T20:48:43.493430Z",
     "shell.execute_reply": "2024-06-07T20:48:43.492168Z",
     "shell.execute_reply.started": "2024-06-07T20:48:43.479420Z"
    },
    "papermill": {
     "duration": null,
     "end_time": null,
     "exception": null,
     "start_time": null,
     "status": "pending"
    },
    "tags": []
   },
   "outputs": [],
   "source": [
    "# Evaluate the model\n",
    "accuracy = accuracy_score(y_test, y_pred)\n",
    "print(\"Test set accuracy: {:.2f}\".format(accuracy))\n"
   ]
  },
  {
   "cell_type": "code",
   "execution_count": null,
   "id": "63cf34fb",
   "metadata": {
    "execution": {
     "iopub.execute_input": "2024-06-07T20:48:57.480179Z",
     "iopub.status.busy": "2024-06-07T20:48:57.479779Z",
     "iopub.status.idle": "2024-06-07T20:48:57.510761Z",
     "shell.execute_reply": "2024-06-07T20:48:57.509420Z",
     "shell.execute_reply.started": "2024-06-07T20:48:57.480148Z"
    },
    "papermill": {
     "duration": null,
     "end_time": null,
     "exception": null,
     "start_time": null,
     "status": "pending"
    },
    "tags": []
   },
   "outputs": [],
   "source": [
    "# Save the model to disk\n",
    "joblib.dump(model, 'best_model.pkl')"
   ]
  }
 ],
 "metadata": {
  "kaggle": {
   "accelerator": "none",
   "dataSources": [
    {
     "datasetId": 5169277,
     "sourceId": 8632882,
     "sourceType": "datasetVersion"
    },
    {
     "datasetId": 5170809,
     "sourceId": 8635032,
     "sourceType": "datasetVersion"
    }
   ],
   "dockerImageVersionId": 30732,
   "isGpuEnabled": false,
   "isInternetEnabled": false,
   "language": "python",
   "sourceType": "notebook"
  },
  "kernelspec": {
   "display_name": "Python 3",
   "language": "python",
   "name": "python3"
  },
  "language_info": {
   "codemirror_mode": {
    "name": "ipython",
    "version": 3
   },
   "file_extension": ".py",
   "mimetype": "text/x-python",
   "name": "python",
   "nbconvert_exporter": "python",
   "pygments_lexer": "ipython3",
   "version": "3.10.13"
  },
  "papermill": {
   "default_parameters": {},
   "duration": 6.272021,
   "end_time": "2024-06-07T21:23:59.764840",
   "environment_variables": {},
   "exception": true,
   "input_path": "__notebook__.ipynb",
   "output_path": "__notebook__.ipynb",
   "parameters": {},
   "start_time": "2024-06-07T21:23:53.492819",
   "version": "2.5.0"
  }
 },
 "nbformat": 4,
 "nbformat_minor": 5
}
